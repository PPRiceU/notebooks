{
 "cells": [
  {
   "cell_type": "markdown",
   "metadata": {
    "tags": [
     "s1",
     "content",
     "l1"
    ]
   },
   "source": [
    "<img src=\"images/mcg.jpg\", style=\"width: 100px\">\n",
    "\n",
    "# Bayesian Networks with PGMPY\n",
    "\n",
    "We shall use the restaurant traffic model to determine how busy a restaurant is given that a new dish has been introduced.\n",
    "\n",
    "<img src=\"images/restaurant_traffic.png\", style=\"width: 600px;\">\n",
    "\n",
    "pgmpy is an open source library for working with Probablistic Graphical Models. Install pgmpy with the command:\n",
    "\n",
    "```python\n",
    "pip install pgmpy\n",
    "```\n",
    "\n",
    "Verify pgmpy is installed:"
   ]
  },
  {
   "cell_type": "code",
   "execution_count": 1,
   "metadata": {},
   "outputs": [
    {
     "name": "stdout",
     "output_type": "stream",
     "text": [
      "Requirement already satisfied: pgmpy in /Users/harishkashyap/anaconda/lib/python3.6/site-packages (0.1.6)\n",
      "Requirement already satisfied: networkx>=1.8.1 in /Users/harishkashyap/anaconda/lib/python3.6/site-packages (from pgmpy) (1.11)\n",
      "Requirement already satisfied: scipy>=0.12.1 in /Users/harishkashyap/anaconda/lib/python3.6/site-packages (from pgmpy) (0.19.1)\n",
      "Requirement already satisfied: numpy>=1.7.0 in /Users/harishkashyap/anaconda/lib/python3.6/site-packages (from pgmpy) (1.14.3)\n",
      "Requirement already satisfied: decorator>=3.4.0 in /Users/harishkashyap/anaconda/lib/python3.6/site-packages (from networkx>=1.8.1->pgmpy) (4.1.2)\n"
     ]
    }
   ],
   "source": [
    "!pip install pgmpy"
   ]
  },
  {
   "cell_type": "markdown",
   "metadata": {},
   "source": [
    "## Create a Bayesian Network Object\n",
    "\n",
    "### Specifying the Structure of the Model\n",
    "\n",
    "To create a Bayesian Network Model, you need to specify Nodes (Random Variables) in the heirarchical order of influence. We know the dependency chain as:\n",
    "\n",
    "* Festival, Game -> Traffic\n",
    "* Sunny, Rain -> Pedestrian\n",
    "* New Dish(Dose), Traffic, Pedestrian -> Restaurant (Vidyarthi Bhavan)."
   ]
  },
  {
   "cell_type": "code",
   "execution_count": 3,
   "metadata": {},
   "outputs": [],
   "source": [
    "from pgmpy.models import BayesianModel\n",
    "\n",
    "restaurant_model = BayesianModel([('F', 'T'),('G', 'T'), ('S', 'P'),\n",
    "                                  ('R', 'P'), ('ND', 'B'), ('T', 'B'),\n",
    "                                  ('P', 'B')])"
   ]
  },
  {
   "cell_type": "markdown",
   "metadata": {},
   "source": [
    "We have now created nodes and directed edges of the Bayesian network.\n",
    "\n",
    "### Specifying Conditional probabilites of each Nodes (Random Variables) \n",
    "\n",
    "The probability that there is an accident on the road leading to the restaurant is 0.05. Hence, we shall assign the CPDs accordingly. Simiarly, we shall assign CPDs for all variables:\n",
    "\n",
    "Let us look at variables that can affect traffic patterns. These could be stochastic (time variant) as well, however for the current example, let us assume the september season with Krishna janmashtami and Gauri/Ganesha and assign a higher probability for a festival.\n",
    "\n",
    "* Festival (boolean states) \n",
    "\n",
    "|      CPD               |    No      |    Yes   |\n",
    "|------------------------|------------|----------|     \n",
    "| Festival               |    0.7     |    0.3   | \n",
    "\n",
    "\n",
    "* Game (boolean state)\n",
    "\n",
    "|      CPD               |    No      |    Yes   |\n",
    "|------------------------|------------|----------|     \n",
    "| Game.                  |    0.95    |     0.05 | \n",
    "\n",
    "* Assuming that Bengaluru would be medium sunny most of the time,\n",
    "\n",
    "|      CPD               |    Light   |  Medium  | High  |\n",
    "|------------------------|------------|----------|-------|\n",
    "| Sunny                  |    0.2     |   0.7    | 0.1   |\n",
    "\n",
    "* Assuming that in the monsoon season, we have either light or medium rain most of the time,\n",
    "\n",
    "|      CPD               |    Light   |  Medium  | High  |\n",
    "|------------------------|------------|----------|-------|\n",
    "| Rain                   |    0.4     |   0.5    | 0.1   |"
   ]
  },
  {
   "cell_type": "code",
   "execution_count": 11,
   "metadata": {},
   "outputs": [],
   "source": [
    "from pgmpy.factors.discrete import TabularCPD\n",
    "\n",
    "festival_cpd = TabularCPD(variable='F',\n",
    "                       variable_card=2,\n",
    "                       values=[[.7, .3]])\n",
    "\n",
    "game_cpd = TabularCPD(variable='G',\n",
    "                       variable_card=2,\n",
    "                       values=[[.95, .05]])\n",
    "\n",
    "sunny_cpd = TabularCPD(variable='S',\n",
    "                       variable_card=3,\n",
    "                       values=[[0.2, 0.7, 0.1]])\n",
    "\n",
    "rain_cpd = TabularCPD(variable='R',\n",
    "                       variable_card=3,\n",
    "                       values=[[0.4, 0.5, 0.1]])\n",
    "\n",
    "new_dish = TabularCPD(variable='ND',\n",
    "                       variable_card=2,\n",
    "                       values=[[0.2, 0.8]])\n",
    "\n",
    "traffic_cpd = TabularCPD(variable='T',\n",
    "                         variable_card=3,\n",
    "                         values=[[.8, .6, .3, .1 ],\n",
    "                                 [.16, .25, .4, .2],\n",
    "                                 [.04, .15, .3, .7]],\n",
    "                         evidence=['F', 'G'],\n",
    "                         evidence_card=[2, 2])\n",
    "\n",
    "pedestrian_cpd = TabularCPD(variable='P',\n",
    "                            variable_card=3,\n",
    "                            values=[[.8, .6, .3, .1 ],\n",
    "                                    [.16, .25, .4, .2],\n",
    "                                    [.04, .15, .3, .7]],\n",
    "                            evidence=['F', 'G'],\n",
    "                            evidence_card=[2, 2])\n",
    "\n",
    "# restaurant_cpd = "
   ]
  }
 ],
 "metadata": {
  "executed_sections": [],
  "kernelspec": {
   "display_name": "Python 3",
   "language": "python",
   "name": "python3"
  },
  "language_info": {
   "codemirror_mode": {
    "name": "ipython",
    "version": 3
   },
   "file_extension": ".py",
   "mimetype": "text/x-python",
   "name": "python",
   "nbconvert_exporter": "python",
   "pygments_lexer": "ipython3",
   "version": "3.6.0"
  }
 },
 "nbformat": 4,
 "nbformat_minor": 2
}
