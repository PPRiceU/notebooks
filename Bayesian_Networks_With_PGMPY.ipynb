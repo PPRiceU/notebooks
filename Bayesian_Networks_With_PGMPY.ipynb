{
 "cells": [
  {
   "cell_type": "markdown",
   "metadata": {
    "tags": [
     "s1",
     "content",
     "l1"
    ]
   },
   "source": [
    "<img src=\"images/mcg.jpg\", style=\"width: 100px\">\n",
    "\n",
    "# Bayesian Networks with PGMPY\n",
    "\n",
    "We shall use the restaurant traffic model to determine how busy a restaurant is given that a new dish has been introduced.\n",
    "\n",
    "<img src=\"images/restaurant_traffic.png\", style=\"width: 600px;\">\n",
    "\n",
    "pgmpy is an open source library for working with Probablistic Graphical Models. Install pgmpy with the command:\n",
    "\n",
    "```python\n",
    "pip install pgmpy\n",
    "```\n",
    "\n",
    "Verify pgmpy is installed:"
   ]
  },
  {
   "cell_type": "code",
   "execution_count": 1,
   "metadata": {},
   "outputs": [
    {
     "name": "stdout",
     "output_type": "stream",
     "text": [
      "Requirement already satisfied: pgmpy in /Users/harishkashyap/anaconda/lib/python3.6/site-packages (0.1.6)\n",
      "Requirement already satisfied: networkx>=1.8.1 in /Users/harishkashyap/anaconda/lib/python3.6/site-packages (from pgmpy) (1.11)\n",
      "Requirement already satisfied: scipy>=0.12.1 in /Users/harishkashyap/anaconda/lib/python3.6/site-packages (from pgmpy) (0.19.1)\n",
      "Requirement already satisfied: numpy>=1.7.0 in /Users/harishkashyap/anaconda/lib/python3.6/site-packages (from pgmpy) (1.14.3)\n",
      "Requirement already satisfied: decorator>=3.4.0 in /Users/harishkashyap/anaconda/lib/python3.6/site-packages (from networkx>=1.8.1->pgmpy) (4.1.2)\n"
     ]
    }
   ],
   "source": [
    "!pip install pgmpy"
   ]
  },
  {
   "cell_type": "markdown",
   "metadata": {},
   "source": [
    "## Create a Bayesian Network Object\n",
    "\n",
    "### Specifying the Structure of the Model\n",
    "\n",
    "To create a Bayesian Network Model, you need to specify Nodes (Random Variables) in the heirarchical order of influence. We know the dependency chain as:\n",
    "\n",
    "* Festival, Game -> Traffic\n",
    "* Sunny, Rain -> Pedestrian\n",
    "* New Dish(Dose), Traffic, Pedestrian -> Restaurant (Vidyarthi Bhavan)."
   ]
  },
  {
   "cell_type": "code",
   "execution_count": 28,
   "metadata": {
    "collapsed": true
   },
   "outputs": [],
   "source": [
    "from pgmpy.models import BayesianModel\n",
    "\n",
    "restaurant_model = BayesianModel([('F', 'T'),('G', 'T'), ('S', 'P'),\n",
    "                                  ('R', 'P'), ('ND', 'B'), ('T', 'B'),\n",
    "                                  ('P', 'B')])"
   ]
  },
  {
   "cell_type": "markdown",
   "metadata": {},
   "source": [
    "We have now created nodes and directed edges of the Bayesian network.\n",
    "\n",
    "### Specifying Conditional probabilites of each Nodes (Random Variables) \n",
    "\n",
    "The probability that there is an accident on the road leading to the restaurant is 0.05. Hence, we shall assign the CPDs accordingly. Simiarly, we shall assign CPDs for all variables:\n",
    "\n",
    "Let us look at variables that can affect traffic patterns. These could be stochastic (time variant) as well, however for the current example, let us assume the september season with Krishna janmashtami and Gauri/Ganesha and assign a higher probability for a festival.\n",
    "\n",
    "* Festival (boolean states) \n",
    "\n",
    "|      CPD               |    No      |    Yes   |\n",
    "|------------------------|------------|----------|     \n",
    "| Festival               |    0.7     |    0.3   | \n",
    "\n",
    "* CPD of Game\n",
    "\n",
    "|      CPD               |    No      |    Yes   |\n",
    "|------------------------|------------|----------|     \n",
    "| Game.                  |   0.95     |    0.05  | \n",
    "\n",
    "* CPD of Sunny status:\n",
    "\n",
    "\n",
    "|      CPD               |    No      |    Yes   |\n",
    "|------------------------|------------|----------|     \n",
    "|      Sunny             |   0.7      |    0.3   | \n",
    "\n",
    "Similarly you can specify all CPDs."
   ]
  },
  {
   "cell_type": "code",
   "execution_count": 36,
   "metadata": {
    "collapsed": true
   },
   "outputs": [],
   "source": [
    "from pgmpy.factors.discrete import TabularCPD\n",
    "from pgmpy.models import BayesianModel\n",
    "\n",
    "festival_cpd = TabularCPD(variable='F',\n",
    "                       variable_card=2,\n",
    "                       values=[[.7, .3]])\n",
    "\n",
    "game_cpd = TabularCPD(variable='G',\n",
    "                       variable_card=2,\n",
    "                       values=[[.95, .05]])\n",
    "\n",
    "sunny_cpd = TabularCPD(variable='S',\n",
    "                       variable_card=2,\n",
    "                       values=[[.7, .3]])\n",
    "\n",
    "rain_cpd = TabularCPD(variable='R',\n",
    "                       variable_card=2,\n",
    "                       values=[[.8, .2]])\n",
    "\n",
    "new_dish_cpd = TabularCPD(variable='N',\n",
    "                       variable_card=2,\n",
    "                       values=[[.7, .3]])\n",
    "\n",
    "\n",
    "traffic_cpd = TabularCPD(variable='T',\n",
    "                         variable_card=2,\n",
    "                         values=[[.8, .05, .1, .5 ],\n",
    "                                [.2,.95, .9, .5]],\n",
    "                         evidence=['F', 'G'],\n",
    "                         evidence_card=[2, 2])\n",
    "\n",
    "pedestrian_cpd = TabularCPD(variable='P',\n",
    "                         variable_card=2,\n",
    "                         values=[[.4, .9, .1, .8 ],\n",
    "                                [.6,.1, .9, .2]],\n",
    "                         evidence=['S', 'R'],\n",
    "                         evidence_card=[2, 2])                \n",
    "                                 \n",
    "Restaurant_booking_cpd = TabularCPD(variable='RB',\n",
    "                         variable_card=2,\n",
    "                         values=[[.95, .6, .9, .5, .4, .05, .7, .3 ],\n",
    "                                [.05, .4, .1, .5, .6, .95, .3, .7]],\n",
    "                         evidence=['N', 'T','P'],\n",
    "                         evidence_card=[2, 2, 2])           "
   ]
  },
  {
   "cell_type": "markdown",
   "metadata": {},
   "source": [
    "## Create a Bayesian Model\n",
    "\n",
    "Now that we have CPDs, create a bayesian model specifying all the dependencies as evidence."
   ]
  },
  {
   "cell_type": "code",
   "execution_count": 37,
   "metadata": {
    "collapsed": true
   },
   "outputs": [],
   "source": [
    "restaurant_model = BayesianModel([('F', 'T'),('G', 'T'),\n",
    "                                  ('S', 'P'),('R', 'P'),\n",
    "                                  ('T','RB'),('N','RB'),\n",
    "                                  ('P','RB')])"
   ]
  },
  {
   "cell_type": "markdown",
   "metadata": {},
   "source": [
    "## Add CPDs\n",
    "\n",
    "Add all cpds to the restaurant model, validate the model and iterate over the CPDs to verify."
   ]
  },
  {
   "cell_type": "code",
   "execution_count": 38,
   "metadata": {},
   "outputs": [
    {
     "name": "stdout",
     "output_type": "stream",
     "text": [
      "CPD of F:\n",
      "╒═════╤═════╕\n",
      "│ F_0 │ 0.7 │\n",
      "├─────┼─────┤\n",
      "│ F_1 │ 0.3 │\n",
      "╘═════╧═════╛\n",
      "CPD of G:\n",
      "╒═════╤══════╕\n",
      "│ G_0 │ 0.95 │\n",
      "├─────┼──────┤\n",
      "│ G_1 │ 0.05 │\n",
      "╘═════╧══════╛\n",
      "CPD of S:\n",
      "╒═════╤═════╕\n",
      "│ S_0 │ 0.7 │\n",
      "├─────┼─────┤\n",
      "│ S_1 │ 0.3 │\n",
      "╘═════╧═════╛\n",
      "CPD of R:\n",
      "╒═════╤═════╕\n",
      "│ R_0 │ 0.8 │\n",
      "├─────┼─────┤\n",
      "│ R_1 │ 0.2 │\n",
      "╘═════╧═════╛\n",
      "CPD of N:\n",
      "╒═════╤═════╕\n",
      "│ N_0 │ 0.7 │\n",
      "├─────┼─────┤\n",
      "│ N_1 │ 0.3 │\n",
      "╘═════╧═════╛\n",
      "CPD of T:\n",
      "╒═════╤═════╤══════╤═════╤═════╕\n",
      "│ F   │ F_0 │ F_0  │ F_1 │ F_1 │\n",
      "├─────┼─────┼──────┼─────┼─────┤\n",
      "│ G   │ G_0 │ G_1  │ G_0 │ G_1 │\n",
      "├─────┼─────┼──────┼─────┼─────┤\n",
      "│ T_0 │ 0.8 │ 0.05 │ 0.1 │ 0.5 │\n",
      "├─────┼─────┼──────┼─────┼─────┤\n",
      "│ T_1 │ 0.2 │ 0.95 │ 0.9 │ 0.5 │\n",
      "╘═════╧═════╧══════╧═════╧═════╛\n",
      "CPD of P:\n",
      "╒═════╤═════╤═════╤═════╤═════╕\n",
      "│ S   │ S_0 │ S_0 │ S_1 │ S_1 │\n",
      "├─────┼─────┼─────┼─────┼─────┤\n",
      "│ R   │ R_0 │ R_1 │ R_0 │ R_1 │\n",
      "├─────┼─────┼─────┼─────┼─────┤\n",
      "│ P_0 │ 0.4 │ 0.9 │ 0.1 │ 0.8 │\n",
      "├─────┼─────┼─────┼─────┼─────┤\n",
      "│ P_1 │ 0.6 │ 0.1 │ 0.9 │ 0.2 │\n",
      "╘═════╧═════╧═════╧═════╧═════╛\n",
      "CPD of RB:\n",
      "╒══════╤══════╤═════╤═════╤═════╤═════╤══════╤═════╤═════╕\n",
      "│ N    │ N_0  │ N_0 │ N_0 │ N_0 │ N_1 │ N_1  │ N_1 │ N_1 │\n",
      "├──────┼──────┼─────┼─────┼─────┼─────┼──────┼─────┼─────┤\n",
      "│ T    │ T_0  │ T_0 │ T_1 │ T_1 │ T_0 │ T_0  │ T_1 │ T_1 │\n",
      "├──────┼──────┼─────┼─────┼─────┼─────┼──────┼─────┼─────┤\n",
      "│ P    │ P_0  │ P_1 │ P_0 │ P_1 │ P_0 │ P_1  │ P_0 │ P_1 │\n",
      "├──────┼──────┼─────┼─────┼─────┼─────┼──────┼─────┼─────┤\n",
      "│ RB_0 │ 0.95 │ 0.6 │ 0.9 │ 0.5 │ 0.4 │ 0.05 │ 0.7 │ 0.3 │\n",
      "├──────┼──────┼─────┼─────┼─────┼─────┼──────┼─────┼─────┤\n",
      "│ RB_1 │ 0.05 │ 0.4 │ 0.1 │ 0.5 │ 0.6 │ 0.95 │ 0.3 │ 0.7 │\n",
      "╘══════╧══════╧═════╧═════╧═════╧═════╧══════╧═════╧═════╛\n"
     ]
    }
   ],
   "source": [
    "restaurant_model.add_cpds(festival_cpd, game_cpd,\n",
    "                          sunny_cpd, rain_cpd,\n",
    "                          new_dish_cpd, traffic_cpd, \n",
    "                          pedestrian_cpd, Restaurant_booking_cpd)\n",
    "\n",
    "for cpd in restaurant_model.get_cpds():\n",
    "    print(\"CPD of {variable}:\".format(variable=cpd.variable))\n",
    "    print(cpd) "
   ]
  },
  {
   "cell_type": "markdown",
   "metadata": {},
   "source": [
    "## Inference from the Model\n",
    "\n",
    "To obtain probabilistic inference from the model given various scenarios, use the inference class."
   ]
  },
  {
   "cell_type": "code",
   "execution_count": 39,
   "metadata": {
    "collapsed": true
   },
   "outputs": [],
   "source": [
    "from pgmpy.inference.base import Inference\n",
    "from pgmpy.factors import factor_product\n",
    "\n",
    "import itertools\n",
    "\n",
    "class SimpleInference(Inference):\n",
    "    def query(self, var, evidence):\n",
    "        # self.factors is a dict of the form of {node: [factors_involving_node]}\n",
    "        factors_list = set(itertools.chain(*self.factors.values()))\n",
    "        product = factor_product(*factors_list)\n",
    "        reduced_prod = product.reduce(evidence, inplace=False)\n",
    "        reduced_prod.normalize()\n",
    "        var_to_marg = set(self.model.nodes()) - set(var) - set([state[0] for state in evidence])\n",
    "        marg_prod = reduced_prod.marginalize(var_to_marg, inplace=False)\n",
    "        return marg_prod"
   ]
  },
  {
   "cell_type": "markdown",
   "metadata": {},
   "source": [
    "## Case Study\n",
    "\n",
    "### How Busy is the Restaurant?\n",
    "\n",
    "* Given New dish is introduced during a festival and it is a sunny day."
   ]
  },
  {
   "cell_type": "code",
   "execution_count": 43,
   "metadata": {},
   "outputs": [
    {
     "name": "stdout",
     "output_type": "stream",
     "text": [
      "╒══════╤═══════════╕\n",
      "│ RB   │   phi(RB) │\n",
      "╞══════╪═══════════╡\n",
      "│ RB_0 │    0.7572 │\n",
      "├──────┼───────────┤\n",
      "│ RB_1 │    0.2428 │\n",
      "╘══════╧═══════════╛\n"
     ]
    }
   ],
   "source": [
    "infer = SimpleInference(restaurant_model)\n",
    "\n",
    "l1 = infer.query(var=['RB'], evidence=[('N', 0), ('F', 0), ('S', 0)])\n",
    "print(l1)"
   ]
  },
  {
   "cell_type": "markdown",
   "metadata": {},
   "source": [
    "We see that the restaurant is quite busy!\n",
    "\n",
    "* Given that the restaurant is busy and no dish was introduced, can we predict how likely is it to be a sunny day?"
   ]
  },
  {
   "cell_type": "code",
   "execution_count": 44,
   "metadata": {},
   "outputs": [
    {
     "name": "stdout",
     "output_type": "stream",
     "text": [
      "╒═════╤══════════╕\n",
      "│ S   │   phi(S) │\n",
      "╞═════╪══════════╡\n",
      "│ S_0 │   0.7645 │\n",
      "├─────┼──────────┤\n",
      "│ S_1 │   0.2355 │\n",
      "╘═════╧══════════╛\n"
     ]
    }
   ],
   "source": [
    "l2 = infer.query(var=['S'], evidence=[('RB', 0), ('N', 1)])\n",
    "print(l2)"
   ]
  },
  {
   "cell_type": "markdown",
   "metadata": {},
   "source": [
    "We see that the day is very likely to be a sunny day!"
   ]
  }
 ],
 "metadata": {
  "executed_sections": [],
  "kernelspec": {
   "display_name": "Python 3",
   "language": "python",
   "name": "python3"
  },
  "language_info": {
   "codemirror_mode": {
    "name": "ipython",
    "version": 3
   },
   "file_extension": ".py",
   "mimetype": "text/x-python",
   "name": "python",
   "nbconvert_exporter": "python",
   "pygments_lexer": "ipython3",
   "version": "3.6.0"
  }
 },
 "nbformat": 4,
 "nbformat_minor": 2
}
