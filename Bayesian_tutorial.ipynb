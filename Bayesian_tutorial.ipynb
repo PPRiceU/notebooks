{
  "nbformat": 4,
  "nbformat_minor": 0,
  "metadata": {
    "colab": {
      "name": "Bayesian_tutorial",
      "version": "0.3.2",
      "provenance": [],
      "collapsed_sections": []
    }
  },
  "cells": [
    {
      "metadata": {
        "id": "HwWJJFlhVabG",
        "colab_type": "text"
      },
      "cell_type": "markdown",
      "source": [
        "# Bayesian Networks"
      ]
    },
    {
      "metadata": {
        "id": "ELzXhV6hVfqj",
        "colab_type": "text"
      },
      "cell_type": "markdown",
      "source": [
        "![Cricket_model](https://drive.google.com/file/d/1HlgBjBUDtbCKgyWZ0rGwNdlb50K_MHay/preview)"
      ]
    },
    {
      "metadata": {
        "id": "U6msUDtfWmcu",
        "colab_type": "text"
      },
      "cell_type": "markdown",
      "source": [
        "## Installing pgmpy"
      ]
    },
    {
      "metadata": {
        "id": "bTVlqazDY6nb",
        "colab_type": "code",
        "colab": {
          "base_uri": "https://localhost:8080/",
          "height": 374
        },
        "outputId": "a57b5a1a-5063-4a8f-a3ba-d2f3a49d99ee"
      },
      "cell_type": "code",
      "source": [
        "!pip install pgmpy\n",
        "!pip install wrapt"
      ],
      "execution_count": 0,
      "outputs": [
        {
          "output_type": "stream",
          "text": [
            "Collecting pgmpy\n",
            "\u001b[?25l  Downloading https://files.pythonhosted.org/packages/96/9c/4b1e07564d8160838d0472728746f3ea3725ced41e43ac05486a328ee78e/pgmpy-0.1.6.tar.gz (218kB)\n",
            "\u001b[K    100% |████████████████████████████████| 225kB 7.5MB/s \n",
            "\u001b[?25hRequirement already satisfied: networkx>=1.8.1 in /usr/local/lib/python2.7/dist-packages (from pgmpy) (2.1)\n",
            "Requirement already satisfied: scipy>=0.12.1 in /usr/local/lib/python2.7/dist-packages (from pgmpy) (0.19.1)\n",
            "Requirement already satisfied: numpy>=1.7.0 in /usr/local/lib/python2.7/dist-packages (from pgmpy) (1.14.5)\n",
            "Requirement already satisfied: decorator>=4.1.0 in /usr/local/lib/python2.7/dist-packages (from networkx>=1.8.1->pgmpy) (4.3.0)\n",
            "Building wheels for collected packages: pgmpy\n",
            "  Running setup.py bdist_wheel for pgmpy ... \u001b[?25l-\b \b\\\b \bdone\n",
            "\u001b[?25h  Stored in directory: /content/.cache/pip/wheels/5e/5d/c5/81dd9fc173c4b56cc6f38b943d3d73b81f1096d67c52ae278a\n",
            "Successfully built pgmpy\n",
            "Installing collected packages: pgmpy\n",
            "Successfully installed pgmpy-0.1.6\n",
            "Collecting wrapt\n",
            "  Downloading https://files.pythonhosted.org/packages/a0/47/66897906448185fcb77fc3c2b1bc20ed0ecca81a0f2f88eda3fc5a34fc3d/wrapt-1.10.11.tar.gz\n",
            "Building wheels for collected packages: wrapt\n",
            "  Running setup.py bdist_wheel for wrapt ... \u001b[?25l-\b \b\\\b \bdone\n",
            "\u001b[?25h  Stored in directory: /content/.cache/pip/wheels/48/5d/04/22361a593e70d23b1f7746d932802efe1f0e523376a74f321e\n",
            "Successfully built wrapt\n",
            "Installing collected packages: wrapt\n",
            "Successfully installed wrapt-1.10.11\n"
          ],
          "name": "stdout"
        }
      ]
    },
    {
      "metadata": {
        "id": "SdUGtyt0Za5R",
        "colab_type": "text"
      },
      "cell_type": "markdown",
      "source": [
        "## Creating Bayesian Object  \n",
        "###  import pgmpy to create Bayesian Object"
      ]
    },
    {
      "metadata": {
        "id": "Au9wHcSUY9hn",
        "colab_type": "code",
        "colab": {}
      },
      "cell_type": "code",
      "source": [
        "from pgmpy.models import BayesianModel"
      ],
      "execution_count": 0,
      "outputs": []
    },
    {
      "metadata": {
        "id": "buuhoR5mbOOm",
        "colab_type": "text"
      },
      "cell_type": "markdown",
      "source": [
        "### Specifying the structure of our Model\n",
        "To create a Bayesain Model , you need to specify Nodes (Random Variables) in order of influences. \n",
        "\n",
        "In this playing_model example, **weather_outlook** is a child node for both **humidity** and **wind**. Also, **playing_cricket** is a child node for **weather_outlook**."
      ]
    },
    {
      "metadata": {
        "id": "HS-lO7tfa9hG",
        "colab_type": "code",
        "colab": {}
      },
      "cell_type": "code",
      "source": [
        "playing_model = BayesianModel([('H', 'WO'),('W', 'WO'), ('WO', 'PC')])"
      ],
      "execution_count": 0,
      "outputs": []
    },
    {
      "metadata": {
        "id": "UHbm0g3xcClu",
        "colab_type": "text"
      },
      "cell_type": "markdown",
      "source": [
        "This creates nodes and directed edges of the Bayesian network"
      ]
    },
    {
      "metadata": {
        "id": "zg42X-XfcyGb",
        "colab_type": "text"
      },
      "cell_type": "markdown",
      "source": [
        "### Specifying Conditional probabilites of each Nodes (Random Variables)  \n",
        "CPD's are given using tabular CPD"
      ]
    },
    {
      "metadata": {
        "id": "koS_kyQpd87F",
        "colab_type": "code",
        "colab": {}
      },
      "cell_type": "code",
      "source": [
        "from pgmpy.factors.discrete import TabularCPD"
      ],
      "execution_count": 0,
      "outputs": []
    },
    {
      "metadata": {
        "id": "q05D-hNtdTxI",
        "colab_type": "text"
      },
      "cell_type": "markdown",
      "source": [
        "#### for root nodes . \n",
        "These nodes have no evidence\n"
      ]
    },
    {
      "metadata": {
        "id": "aAhu4r2qcRN3",
        "colab_type": "code",
        "colab": {}
      },
      "cell_type": "code",
      "source": [
        "humidity_cpd = TabularCPD(variable='H',\n",
        "                       variable_card=2,\n",
        "                       values=[[.75, .25]])"
      ],
      "execution_count": 0,
      "outputs": []
    },
    {
      "metadata": {
        "id": "hqce1NW3eKYv",
        "colab_type": "text"
      },
      "cell_type": "markdown",
      "source": [
        "This code specifies CPD for node 'H' (Humidity). \n",
        "\n",
        "Similarly create CPD's of node 'W' (Wind)"
      ]
    },
    {
      "metadata": {
        "id": "ZK2p7oFAduJS",
        "colab_type": "code",
        "colab": {}
      },
      "cell_type": "code",
      "source": [
        "## create cpd for wind\n",
        "#wind_cpd = ?\n",
        "\n",
        "## added to run further excerise ,  \n",
        "wind_cpd = TabularCPD(variable='W',\n",
        "                         variable_card=2,\n",
        "                         values=[[ .4, .6]])"
      ],
      "execution_count": 0,
      "outputs": []
    },
    {
      "metadata": {
        "id": "Yv7pfh7de6X_",
        "colab_type": "text"
      },
      "cell_type": "markdown",
      "source": [
        "#### for nodes which are influenced by other nodes"
      ]
    },
    {
      "metadata": {
        "id": "D_awYnEtfGSV",
        "colab_type": "text"
      },
      "cell_type": "markdown",
      "source": [
        "These nodes have evidences "
      ]
    },
    {
      "metadata": {
        "id": "Q5bsBjiPe5Jg",
        "colab_type": "code",
        "colab": {}
      },
      "cell_type": "code",
      "source": [
        "weather_outlook_cpd = TabularCPD(variable='WO',\n",
        "                         variable_card=3,\n",
        "                         values=[[.8, .6, .3, .1 ],\n",
        "                        [.16, .25, .4, .2],\n",
        "                        [.04, .15, .3, .7]],\n",
        "                         evidence=['H', 'W'],\n",
        "                         evidence_card=[2, 2])"
      ],
      "execution_count": 0,
      "outputs": []
    },
    {
      "metadata": {
        "id": "UEPbALTrfTuN",
        "colab_type": "text"
      },
      "cell_type": "markdown",
      "source": [
        "Here , **evidence** specify nodes which influence 'W' node, and **evidence_card** specify number of states of those nodes .\n",
        "\n",
        "Similary create CPD of node 'PC'"
      ]
    },
    {
      "metadata": {
        "id": "cS1sjorEfRFk",
        "colab_type": "code",
        "colab": {}
      },
      "cell_type": "code",
      "source": [
        "## create cpd for 'PC', playing cricket\n",
        "#playing_cricket_cpd = \n",
        "\n",
        "## added to run further excerise ,  \n",
        "playing_cricket_cpd = TabularCPD(variable='PC',\n",
        "                         variable_card=2,\n",
        "                         values=[[.2, .6, .95 ],\n",
        "                        [.8, .4, .05]],\n",
        "                         evidence=[ 'WO'],\n",
        "                         evidence_card=[ 3 ])"
      ],
      "execution_count": 0,
      "outputs": []
    },
    {
      "metadata": {
        "id": "Qw41FIPPNsWl",
        "colab_type": "text"
      },
      "cell_type": "markdown",
      "source": [
        "Add the pre-defined CPDs using BayesianModel's add_cpds() method"
      ]
    },
    {
      "metadata": {
        "id": "PhtkF8JOOJkU",
        "colab_type": "code",
        "colab": {}
      },
      "cell_type": "code",
      "source": [
        "playing_model.add_cpds ( humidity_cpd, wind_cpd, weather_outlook_cpd, playing_cricket_cpd)"
      ],
      "execution_count": 0,
      "outputs": []
    },
    {
      "metadata": {
        "id": "dV3slOJkcgss",
        "colab_type": "text"
      },
      "cell_type": "markdown",
      "source": [
        "###To Verify cpd of any random variable we can use get_cpds  method\n"
      ]
    },
    {
      "metadata": {
        "id": "Lo411oB_NSlC",
        "colab_type": "code",
        "colab": {
          "base_uri": "https://localhost:8080/",
          "height": 54
        },
        "outputId": "df3c827f-5343-42e1-eed4-11acdecffe3c"
      },
      "cell_type": "code",
      "source": [
        "print(playing_model.get_cpds())\n"
      ],
      "execution_count": 0,
      "outputs": [
        {
          "output_type": "stream",
          "text": [
            "[<TabularCPD representing P(H:2) at 0x7f1bd1e46a10>, <TabularCPD representing P(W:2) at 0x7f1bd1e46fd0>, <TabularCPD representing P(WO:3 | H:2, W:2) at 0x7f1bd1e46f90>, <TabularCPD representing P(PC:2 | WO:3) at 0x7f1bd2074190>]\n"
          ],
          "name": "stdout"
        }
      ]
    },
    {
      "metadata": {
        "id": "NmnuRO5ik0cw",
        "colab_type": "code",
        "colab": {
          "base_uri": "https://localhost:8080/",
          "height": 561
        },
        "outputId": "fac662a9-2d51-4f42-c5f7-052325cf9f76"
      },
      "cell_type": "code",
      "source": [
        "# Iterate over playing_model.get_cpds()\n",
        "for cpd in playing_model.get_cpds():\n",
        "    print(\"CPD of {variable}:\".format(variable=cpd.variable))\n",
        "    print(cpd)\n"
      ],
      "execution_count": 0,
      "outputs": [
        {
          "output_type": "stream",
          "text": [
            "CPD of H:\n",
            "+-----+------+\n",
            "| H_0 | 0.75 |\n",
            "+-----+------+\n",
            "| H_1 | 0.25 |\n",
            "+-----+------+\n",
            "CPD of W:\n",
            "+-----+-----+\n",
            "| W_0 | 0.4 |\n",
            "+-----+-----+\n",
            "| W_1 | 0.6 |\n",
            "+-----+-----+\n",
            "CPD of WO:\n",
            "+------+------+------+-----+-----+\n",
            "| H    | H_0  | H_0  | H_1 | H_1 |\n",
            "+------+------+------+-----+-----+\n",
            "| W    | W_0  | W_1  | W_0 | W_1 |\n",
            "+------+------+------+-----+-----+\n",
            "| WO_0 | 0.8  | 0.6  | 0.3 | 0.1 |\n",
            "+------+------+------+-----+-----+\n",
            "| WO_1 | 0.16 | 0.25 | 0.4 | 0.2 |\n",
            "+------+------+------+-----+-----+\n",
            "| WO_2 | 0.04 | 0.15 | 0.3 | 0.7 |\n",
            "+------+------+------+-----+-----+\n",
            "CPD of PC:\n",
            "+------+------+------+------+\n",
            "| WO   | WO_0 | WO_1 | WO_2 |\n",
            "+------+------+------+------+\n",
            "| PC_0 | 0.2  | 0.6  | 0.95 |\n",
            "+------+------+------+------+\n",
            "| PC_1 | 0.8  | 0.4  | 0.05 |\n",
            "+------+------+------+------+\n"
          ],
          "name": "stdout"
        }
      ]
    },
    {
      "metadata": {
        "id": "46tWsdBjm9Am",
        "colab_type": "text"
      },
      "cell_type": "markdown",
      "source": [
        "### Computation of Probabilities using evidence\n",
        "\n"
      ]
    },
    {
      "metadata": {
        "id": "aCe5WE_CoEe-",
        "colab_type": "text"
      },
      "cell_type": "markdown",
      "source": [
        "The next logical step will be the computation of probabilities and CPDs of various nodes within the Bayesian Model by specifying evidence. This will give us inferences of different variables based on the evidences observed."
      ]
    },
    {
      "metadata": {
        "id": "3kWr_nbqvlzK",
        "colab_type": "text"
      },
      "cell_type": "markdown",
      "source": [
        "####Here we import VariableElimination module to compute probabilities"
      ]
    },
    {
      "metadata": {
        "id": "qC3TxOm_stwu",
        "colab_type": "code",
        "colab": {}
      },
      "cell_type": "code",
      "source": [
        "from pgmpy.inference import VariableElimination"
      ],
      "execution_count": 0,
      "outputs": []
    },
    {
      "metadata": {
        "id": "T0veLVs4y-Sp",
        "colab_type": "code",
        "colab": {}
      },
      "cell_type": "code",
      "source": [
        "# our infering Object\n",
        "playing_cricket_infer = VariableElimination(playing_model)"
      ],
      "execution_count": 0,
      "outputs": []
    },
    {
      "metadata": {
        "id": "dmWG4uU22CDm",
        "colab_type": "text"
      },
      "cell_type": "markdown",
      "source": [
        "*query()* method of our infer object is used to do inference, by specifying what we need to infer in **variables** and what we observe in **evidence** along with there states."
      ]
    },
    {
      "metadata": {
        "id": "VHeGQGbgbhsI",
        "colab_type": "text"
      },
      "cell_type": "markdown",
      "source": [
        "### Find the probability of playing Cricket given that Wind  speed is low"
      ]
    },
    {
      "metadata": {
        "id": "EC173RR4u4TP",
        "colab_type": "code",
        "colab": {
          "base_uri": "https://localhost:8080/",
          "height": 119
        },
        "outputId": "7ed5c7ae-a79d-4e71-bf59-10beee3b60f1"
      },
      "cell_type": "code",
      "source": [
        "#prob_playing_cricket_W0 = ?\n",
        "#To compute Probability of Playing cricket when Humidity is low\n",
        "\n",
        "prob_playing_cricket_h0 = playing_cricket_infer.query(variables=['PC'],evidence={'H':0})\n",
        "print(prob_playing_cricket_h0['PC'])"
      ],
      "execution_count": 0,
      "outputs": [
        {
          "output_type": "stream",
          "text": [
            "+------+-----------+\n",
            "| PC   |   phi(PC) |\n",
            "|------+-----------|\n",
            "| PC_0 |    0.3651 |\n",
            "| PC_1 |    0.6349 |\n",
            "+------+-----------+\n"
          ],
          "name": "stdout"
        }
      ]
    },
    {
      "metadata": {
        "id": "6rUz8l7o2uo9",
        "colab_type": "text"
      },
      "cell_type": "markdown",
      "source": [
        "### Without evidence\n",
        "\n",
        "We can also infer without giving any evidence, Let us try this and get to know our overall probability of playing cricket in our model."
      ]
    },
    {
      "metadata": {
        "id": "3BjhkzjM3rkh",
        "colab_type": "code",
        "colab": {
          "base_uri": "https://localhost:8080/",
          "height": 119
        },
        "outputId": "5e76928d-24d2-4c69-cc91-260551cf9dad"
      },
      "cell_type": "code",
      "source": [
        "prob_playing_cricket = playing_cricket_infer.query(variables=['PC'])\n",
        "print(prob_playing_cricket['PC'])"
      ],
      "execution_count": 0,
      "outputs": [
        {
          "output_type": "stream",
          "text": [
            "+------+-----------+\n",
            "| PC   |   phi(PC) |\n",
            "|------+-----------|\n",
            "| PC_0 |    0.4531 |\n",
            "| PC_1 |    0.5469 |\n",
            "+------+-----------+\n"
          ],
          "name": "stdout"
        }
      ]
    },
    {
      "metadata": {
        "id": "vha-u6nU4ISy",
        "colab_type": "text"
      },
      "cell_type": "markdown",
      "source": [
        "Vola! , PC_1 = 0.54 . we can Play cricket!"
      ]
    },
    {
      "metadata": {
        "id": "YKLUEo0v4gf7",
        "colab_type": "text"
      },
      "cell_type": "markdown",
      "source": [
        "Whatever inference we did till now is called **CAUSAL Reasoning** , we are querying the model top to bottom . "
      ]
    },
    {
      "metadata": {
        "id": "RyXdsBqJ5uVk",
        "colab_type": "text"
      },
      "cell_type": "markdown",
      "source": [
        "### Evidential Reasoning\n",
        "pgmpy also allows us to query the model bottom up which is called *evidential reasoning*  , example:\n",
        "#### What is probability of Day being windy given that We played cricket"
      ]
    },
    {
      "metadata": {
        "id": "f8wgvlsk6eXo",
        "colab_type": "code",
        "colab": {
          "base_uri": "https://localhost:8080/",
          "height": 119
        },
        "outputId": "6858350b-01c4-4bdc-b6d8-051ec0f916a3"
      },
      "cell_type": "code",
      "source": [
        "prob_wind_pc1 = playing_cricket_infer.query(variables=['W'],evidence={'PC':1})\n",
        "print(prob_wind_pc1['W'])"
      ],
      "execution_count": 0,
      "outputs": [
        {
          "output_type": "stream",
          "text": [
            "+-----+----------+\n",
            "| W   |   phi(W) |\n",
            "|-----+----------|\n",
            "| W_0 |   0.4631 |\n",
            "| W_1 |   0.5369 |\n",
            "+-----+----------+\n"
          ],
          "name": "stdout"
        }
      ]
    },
    {
      "metadata": {
        "id": "Cb4b1dqSprzu",
        "colab_type": "text"
      },
      "cell_type": "markdown",
      "source": [
        "Therefore, probability that we played cricket when weather is windy more. "
      ]
    },
    {
      "metadata": {
        "id": "IS0Z9H2P7QH2",
        "colab_type": "text"
      },
      "cell_type": "markdown",
      "source": [
        "#### What is probability of less Humidity given that it was sunny day (*WO_1*)"
      ]
    },
    {
      "metadata": {
        "id": "eSnJqq4F7mZ5",
        "colab_type": "code",
        "colab": {
          "base_uri": "https://localhost:8080/",
          "height": 119
        },
        "outputId": "c676ccc4-049e-45a7-9200-85f394ecd1ee"
      },
      "cell_type": "code",
      "source": [
        "#prob_humidity_WO1 = ?\n",
        "prob_wind_h0 = playing_cricket_infer.query(variables=['H'],evidence={'WO':1})\n",
        "print(prob_wind_h0['H'])"
      ],
      "execution_count": 0,
      "outputs": [
        {
          "output_type": "stream",
          "text": [
            "+-----+----------+\n",
            "| H   |   phi(H) |\n",
            "|-----+----------|\n",
            "| H_0 |   0.6963 |\n",
            "| H_1 |   0.3037 |\n",
            "+-----+----------+\n"
          ],
          "name": "stdout"
        }
      ]
    },
    {
      "metadata": {
        "id": "Enf6m1NlpeoJ",
        "colab_type": "text"
      },
      "cell_type": "markdown",
      "source": [
        "Hence, if it is sunny day humidity is less."
      ]
    },
    {
      "metadata": {
        "id": "aBac-TiFq5lq",
        "colab_type": "text"
      },
      "cell_type": "markdown",
      "source": [
        "### Conditional Independence"
      ]
    },
    {
      "metadata": {
        "id": "2lSJFnvtrLBy",
        "colab_type": "text"
      },
      "cell_type": "markdown",
      "source": [
        "Two events A and B are independent if:\n",
        "\n",
        "**P(A∩B)=P(A)P(B) P(A∩B)=P(A)P(B) **\n",
        " \n",
        "and by extension\n",
        "\n",
        "**P(A|B)=P(A)\n",
        "P(A|B)=P(A)**\n",
        " \n",
        "We can extend this to conditional independence. Two events A and B are conditionally independent given an event C with P(C)>0 if\n",
        "\n",
        "**P(A∩B|C)=P(A|C)P(B|C)\n",
        "P(A∩B|C)=P(A|C)P(B|C)**\n",
        " \n",
        " \n"
      ]
    },
    {
      "metadata": {
        "id": "M9D6hd78r_To",
        "colab_type": "text"
      },
      "cell_type": "markdown",
      "source": [
        "#### Conditional Independence in Bayesian structure\n",
        "\n",
        "Let us say we have 3 random variables X, Y and Z.\n",
        "\n",
        "By definition, X and Y are conditionally independent [given Z] if given the knowledge of Z, probability of X gives no information on the probability of Y, and vice versa."
      ]
    },
    {
      "metadata": {
        "id": "mf7zrEmytVd-",
        "colab_type": "text"
      },
      "cell_type": "markdown",
      "source": [
        "In our Bayesian Model we can say that **Humidity** is independent of  **Playing  Cricket** given **Weather Outlook** , that is 'H'⊥'PC'|'WO'  . Now we shall verify this by doing inference"
      ]
    },
    {
      "metadata": {
        "id": "2FYdvmxxvuY8",
        "colab_type": "text"
      },
      "cell_type": "markdown",
      "source": [
        "Now we shall infer Probability of Playing cricket **'PC'** given Weather Outlook **'WO'** and Humidity **'H'**  \n"
      ]
    },
    {
      "metadata": {
        "id": "D7bFSAzsrIs6",
        "colab_type": "code",
        "colab": {
          "base_uri": "https://localhost:8080/",
          "height": 119
        },
        "outputId": "5454b7cf-4558-467e-a929-c5c7f3b35a16"
      },
      "cell_type": "code",
      "source": [
        "prob_playing_criket_given_weather0_humidity0 = playing_cricket_infer.query(variables=['PC'],evidence={'H':0, 'WO':0})\n",
        "print(prob_playing_criket_given_weather_humidity['PC'])"
      ],
      "execution_count": 0,
      "outputs": [
        {
          "output_type": "stream",
          "text": [
            "+------+-----------+\n",
            "| PC   |   phi(PC) |\n",
            "|------+-----------|\n",
            "| PC_0 |    0.2000 |\n",
            "| PC_1 |    0.8000 |\n",
            "+------+-----------+\n"
          ],
          "name": "stdout"
        }
      ]
    },
    {
      "metadata": {
        "id": "WW_KwlVYw6HG",
        "colab_type": "text"
      },
      "cell_type": "markdown",
      "source": [
        "Observe the results PC_0 and PC_1 , for given evidence 'H'=0 and 'WO'=0"
      ]
    },
    {
      "metadata": {
        "id": "-LVlXMSfwmjL",
        "colab_type": "code",
        "colab": {
          "base_uri": "https://localhost:8080/",
          "height": 119
        },
        "outputId": "d5d76efc-3b28-4228-d244-63a65649837f"
      },
      "cell_type": "code",
      "source": [
        "prob_playing_criket_given_weather0_humidity1 = playing_cricket_infer.query(variables=['PC'],evidence={'H':1, 'WO':0})\n",
        "print(prob_playing_criket_given_weather0_humidity1['PC'])"
      ],
      "execution_count": 0,
      "outputs": [
        {
          "output_type": "stream",
          "text": [
            "+------+-----------+\n",
            "| PC   |   phi(PC) |\n",
            "|------+-----------|\n",
            "| PC_0 |    0.2000 |\n",
            "| PC_1 |    0.8000 |\n",
            "+------+-----------+\n"
          ],
          "name": "stdout"
        }
      ]
    },
    {
      "metadata": {
        "id": "LyH4fbIBxd9G",
        "colab_type": "text"
      },
      "cell_type": "markdown",
      "source": [
        "Now look at result PC_0 and PC_1 , it's still the  same for evidence 'H'=1 and 'WO'=0 , which means that **'PC'** is not influcened by **'H'** , when **'WO'** is observed . In other words  'PC' is independent of 'H' given 'WO'. Mathematically 'H'⊥'PC'|'WO'"
      ]
    },
    {
      "metadata": {
        "id": "DKDxlesLza5J",
        "colab_type": "text"
      },
      "cell_type": "markdown",
      "source": [
        "### To get all Independencies of our model"
      ]
    },
    {
      "metadata": {
        "id": "s9dSIhSdzm3E",
        "colab_type": "code",
        "colab": {
          "base_uri": "https://localhost:8080/",
          "height": 187
        },
        "outputId": "7bc6fe85-d27a-42bb-c3b9-36120163bd77"
      },
      "cell_type": "code",
      "source": [
        "print(\"Independencies\")\n",
        "print(playing_model.get_independencies())"
      ],
      "execution_count": 0,
      "outputs": [
        {
          "output_type": "stream",
          "text": [
            "Independencies\n",
            "(H _|_ W)\n",
            "(H _|_ PC | WO)\n",
            "(H _|_ PC | WO, W)\n",
            "(W _|_ H)\n",
            "(W _|_ PC | WO)\n",
            "(W _|_ PC | WO, H)\n",
            "(PC _|_ H, W | WO)\n",
            "(PC _|_ W | WO, H)\n",
            "(PC _|_ H | WO, W)\n"
          ],
          "name": "stdout"
        }
      ]
    },
    {
      "metadata": {
        "id": "uqmNis4pz68g",
        "colab_type": "text"
      },
      "cell_type": "markdown",
      "source": [
        "Now using playing_cricket_infer.query() verify any one of the independecies by yourself"
      ]
    },
    {
      "metadata": {
        "id": "QNpJmmoS0Yyn",
        "colab_type": "code",
        "colab": {}
      },
      "cell_type": "code",
      "source": [
        "# Hint : Do infer using evidence , when the result doesn't change when you change the evidence then those two are independent\n"
      ],
      "execution_count": 0,
      "outputs": []
    },
    {
      "metadata": {
        "id": "VUEQO-TF73Ek",
        "colab_type": "text"
      },
      "cell_type": "markdown",
      "source": [
        "### Active Trails\n",
        "Active trial is an opposite of indepencies, A trail X1 --- X2 is active trail if the influence flows from X1 to X2 (i,e they are dependent)  \n",
        "To check a trial is active trail , use **is_active_trail (start, end, observed=None)** function. "
      ]
    },
    {
      "metadata": {
        "id": "EdgtWHvG9Z6a",
        "colab_type": "code",
        "colab": {
          "base_uri": "https://localhost:8080/",
          "height": 34
        },
        "outputId": "e11a33d5-506b-4850-af43-18288fe5b8d7"
      },
      "cell_type": "code",
      "source": [
        "playing_model.is_active_trail('H', 'PC')"
      ],
      "execution_count": 0,
      "outputs": [
        {
          "output_type": "execute_result",
          "data": {
            "text/plain": [
              "True"
            ]
          },
          "metadata": {
            "tags": []
          },
          "execution_count": 41
        }
      ]
    },
    {
      "metadata": {
        "id": "6fPr5vmN9lro",
        "colab_type": "text"
      },
      "cell_type": "markdown",
      "source": [
        "Check other trails , by giving evidence in *observed *"
      ]
    },
    {
      "metadata": {
        "id": "dNpZtjY79wDH",
        "colab_type": "code",
        "colab": {
          "base_uri": "https://localhost:8080/",
          "height": 34
        },
        "outputId": "68fb127c-2b8a-443d-ab33-74ea72d369fe"
      },
      "cell_type": "code",
      "source": [
        "playing_model.is_active_trail('H', 'PC', observed='WO')"
      ],
      "execution_count": 0,
      "outputs": [
        {
          "output_type": "execute_result",
          "data": {
            "text/plain": [
              "False"
            ]
          },
          "metadata": {
            "tags": []
          },
          "execution_count": 33
        }
      ]
    },
    {
      "metadata": {
        "id": "oil7LJph-FQd",
        "colab_type": "text"
      },
      "cell_type": "markdown",
      "source": [
        "#### To know all active trails from a Node\n",
        "use **active_trail_nodes(variables, observed=None)**, To get dictionary with the given variables as keys and all the nodes reachable from that respective variable as values."
      ]
    },
    {
      "metadata": {
        "id": "o7TqXjAD-h0U",
        "colab_type": "code",
        "colab": {}
      },
      "cell_type": "code",
      "source": [
        "## Use active_trail_nodes(variables, observed=None) with some nodes\n"
      ],
      "execution_count": 0,
      "outputs": []
    },
    {
      "metadata": {
        "id": "D9CKEg0axr4z",
        "colab_type": "text"
      },
      "cell_type": "markdown",
      "source": [
        "##V-Structures\n",
        "###Let us see how the conditional probabilities for V-Structures work"
      ]
    },
    {
      "metadata": {
        "id": "pzLPrTj6xcqS",
        "colab_type": "code",
        "colab": {
          "base_uri": "https://localhost:8080/",
          "height": 221
        },
        "outputId": "8b804105-2fea-4e41-ce2b-fe9010a37828"
      },
      "cell_type": "code",
      "source": [
        "#Let us observe if Wind influences Humidity\n",
        "\n",
        "prob_Humidity_given_Wind = playing_cricket_infer.query(variables=['H'],evidence={'W':0})\n",
        "print(prob_Humidity_given_Wind['H'])\n",
        "\n",
        "prob_Humidity_given_Wind = playing_cricket_infer.query(variables=['H'],evidence={'W':1})\n",
        "print(prob_Humidity_given_Wind['H'])\n",
        "\n"
      ],
      "execution_count": 0,
      "outputs": [
        {
          "output_type": "stream",
          "text": [
            "+-----+----------+\n",
            "| H   |   phi(H) |\n",
            "|-----+----------|\n",
            "| H_0 |   0.7500 |\n",
            "| H_1 |   0.2500 |\n",
            "+-----+----------+\n",
            "+-----+----------+\n",
            "| H   |   phi(H) |\n",
            "|-----+----------|\n",
            "| H_0 |   0.7500 |\n",
            "| H_1 |   0.2500 |\n",
            "+-----+----------+\n"
          ],
          "name": "stdout"
        }
      ]
    },
    {
      "metadata": {
        "id": "jSL2RUC8y9LL",
        "colab_type": "text"
      },
      "cell_type": "markdown",
      "source": [
        "We can see that the conditional probabilities of Humidity 'H' remains same given Wind 'W'\n",
        "i.e Humidity is independent of Wind (H⊥W)."
      ]
    },
    {
      "metadata": {
        "id": "vWyAAdItzN2L",
        "colab_type": "text"
      },
      "cell_type": "markdown",
      "source": [
        "###Let us see what happens when Weather Outlook 'WO' is observed"
      ]
    },
    {
      "metadata": {
        "id": "O4knbQRQzutG",
        "colab_type": "code",
        "colab": {
          "base_uri": "https://localhost:8080/",
          "height": 221
        },
        "outputId": "3340a5db-cc2b-41ad-e2b5-56b85a0a8005"
      },
      "cell_type": "code",
      "source": [
        "prob_Humidity_given_Wind = playing_cricket_infer.query(variables=['H'],evidence={'W':0,'WO':0})\n",
        "print(prob_Humidity_given_Wind['H'])\n",
        "\n",
        "prob_Humidity_given_Wind = playing_cricket_infer.query(variables=['H'],evidence={'W':1,'WO':0})\n",
        "print(prob_Humidity_given_Wind['H'])"
      ],
      "execution_count": 0,
      "outputs": [
        {
          "output_type": "stream",
          "text": [
            "+-----+----------+\n",
            "| H   |   phi(H) |\n",
            "|-----+----------|\n",
            "| H_0 |   0.8889 |\n",
            "| H_1 |   0.1111 |\n",
            "+-----+----------+\n",
            "+-----+----------+\n",
            "| H   |   phi(H) |\n",
            "|-----+----------|\n",
            "| H_0 |   0.9474 |\n",
            "| H_1 |   0.0526 |\n",
            "+-----+----------+\n"
          ],
          "name": "stdout"
        }
      ]
    },
    {
      "metadata": {
        "id": "gtrBO5HL0ACT",
        "colab_type": "text"
      },
      "cell_type": "markdown",
      "source": [
        "We can see that if Weather Outlook 'WO' is observed to be bleak then the Wind 'W' influences 'H' random variable."
      ]
    },
    {
      "metadata": {
        "id": "M9x7CCbz6HIm",
        "colab_type": "text"
      },
      "cell_type": "markdown",
      "source": [
        "** Question to solve: **"
      ]
    },
    {
      "metadata": {
        "id": "zbzlmUh008rp",
        "colab_type": "code",
        "colab": {}
      },
      "cell_type": "code",
      "source": [
        "#Similarly find what happens when Weather Outlook is favourable\n",
        "#prob_Humidity_given_Wind=\n"
      ],
      "execution_count": 0,
      "outputs": []
    },
    {
      "metadata": {
        "id": "o3wJKmMx2tYb",
        "colab_type": "text"
      },
      "cell_type": "markdown",
      "source": [
        "##D-Separation\n",
        "\n",
        "###To nodes X,Y in a given graph are said to to be D-separated if there is no active trail between X and Y given Z i.e X ⊥Y|Z"
      ]
    },
    {
      "metadata": {
        "id": "Hx-fso2ftNEO",
        "colab_type": "text"
      },
      "cell_type": "markdown",
      "source": [
        "For Example, let us take check how Playing Cricket varies for different conditions of Humidity,\n",
        "\n",
        "**a) When Wind is given**"
      ]
    },
    {
      "metadata": {
        "id": "L-I3b_-06tiu",
        "colab_type": "code",
        "colab": {
          "base_uri": "https://localhost:8080/",
          "height": 221
        },
        "outputId": "007a2eaf-c6a1-438a-c452-3d244c513b5e"
      },
      "cell_type": "code",
      "source": [
        "#Let us if Humidity 'H' and Playing_Cricket 'PC' is D-separated given Wind 'W'\n",
        "prob_Playing_Cricket_given_Wind = playing_cricket_infer.query(variables=['PC'],evidence={'H':0,'W':0})\n",
        "print(prob_Playing_Cricket_given_Wind['PC'])\n",
        "\n",
        "prob_Playing_Cricket_given_Wind = playing_cricket_infer.query(variables=['PC'],evidence={'H':1,'W':0})\n",
        "print(prob_Playing_Cricket_given_Wind['PC'])"
      ],
      "execution_count": 0,
      "outputs": [
        {
          "output_type": "stream",
          "text": [
            "+------+-----------+\n",
            "| PC   |   phi(PC) |\n",
            "|------+-----------|\n",
            "| PC_0 |    0.2940 |\n",
            "| PC_1 |    0.7060 |\n",
            "+------+-----------+\n",
            "+------+-----------+\n",
            "| PC   |   phi(PC) |\n",
            "|------+-----------|\n",
            "| PC_0 |    0.5850 |\n",
            "| PC_1 |    0.4150 |\n",
            "+------+-----------+\n"
          ],
          "name": "stdout"
        }
      ]
    },
    {
      "metadata": {
        "id": "-CuamDJ67qpP",
        "colab_type": "text"
      },
      "cell_type": "markdown",
      "source": [
        "We can see that  the **probability of playing cricket changes with Humidity** i.e **there is an active trail** hence  'PC' and  'H' are not D-separated given 'W'"
      ]
    },
    {
      "metadata": {
        "id": "aa2UJYmKs380",
        "colab_type": "text"
      },
      "cell_type": "markdown",
      "source": [
        "**b)When Weather Outlook is given**"
      ]
    },
    {
      "metadata": {
        "id": "l76_0kB-8IFe",
        "colab_type": "code",
        "colab": {
          "base_uri": "https://localhost:8080/",
          "height": 221
        },
        "outputId": "18c83ea0-b681-4787-e209-dad2c472d42a"
      },
      "cell_type": "code",
      "source": [
        "#Let us if Humidity 'H' and Playing_Cricket 'PC' is D-separated given Weather Outlook 'WO'\n",
        "prob_Playing_Cricket_given_Wind = playing_cricket_infer.query(variables=['PC'],evidence={'H':0,'WO':0})\n",
        "print(prob_Playing_Cricket_given_Wind['PC'])\n",
        "\n",
        "prob_Playing_Cricket_given_Wind = playing_cricket_infer.query(variables=['PC'],evidence={'H':1,'WO':0})\n",
        "print(prob_Playing_Cricket_given_Wind['PC'])"
      ],
      "execution_count": 0,
      "outputs": [
        {
          "output_type": "stream",
          "text": [
            "+------+-----------+\n",
            "| PC   |   phi(PC) |\n",
            "|------+-----------|\n",
            "| PC_0 |    0.2000 |\n",
            "| PC_1 |    0.8000 |\n",
            "+------+-----------+\n",
            "+------+-----------+\n",
            "| PC   |   phi(PC) |\n",
            "|------+-----------|\n",
            "| PC_0 |    0.2000 |\n",
            "| PC_1 |    0.8000 |\n",
            "+------+-----------+\n"
          ],
          "name": "stdout"
        }
      ]
    },
    {
      "metadata": {
        "id": "IVzEKomN8dFb",
        "colab_type": "text"
      },
      "cell_type": "markdown",
      "source": [
        "We can see that  the **probability of playing cricket doesn' t changes with Humidity** i.e there is **no active trail** hence random variables  'PC' and  'H' are D-separated given  Weather Outlook 'WO'"
      ]
    },
    {
      "metadata": {
        "id": "bJmewHkdu1cK",
        "colab_type": "text"
      },
      "cell_type": "markdown",
      "source": [
        "**c) How Wind and Playing Cricket related when Humidity is known**"
      ]
    },
    {
      "metadata": {
        "id": "JVTPmwS38xlW",
        "colab_type": "code",
        "colab": {}
      },
      "cell_type": "code",
      "source": [
        "#Find if Wind 'W'and Playing cricket 'PC' are D-separated given Humidity 'H'\n",
        "#prob_Playing_Cricket_given_Humidity = ?"
      ],
      "execution_count": 0,
      "outputs": []
    },
    {
      "metadata": {
        "id": "ruQ_NVNL3ya_",
        "colab_type": "text"
      },
      "cell_type": "markdown",
      "source": [
        "**Questions:**\n",
        " \n",
        " 1) Is active trail found for above case?\n",
        " \n",
        " 2) Whether Probability of Playing Cricket changes on Wind when Humidity is known?\n",
        " \n",
        " 3) Whether Probability of Playing Cricket depends on Wind when Weather Outlook is given?"
      ]
    }
  ]
}