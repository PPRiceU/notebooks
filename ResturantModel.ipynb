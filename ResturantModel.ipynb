{
 "cells": [
  {
   "cell_type": "code",
   "execution_count": 0,
   "metadata": {
    "colab": {
     "base_uri": "https://localhost:8080/",
     "height": 306
    },
    "colab_type": "code",
    "id": "rKUoTlaZFWiz",
    "outputId": "2dc48ec8-2c4f-4660-ea35-7d8ac304f594"
   },
   "outputs": [
    {
     "name": "stdout",
     "output_type": "stream",
     "text": [
      "Collecting pgmpy\n",
      "\u001b[?25l  Downloading https://files.pythonhosted.org/packages/96/9c/4b1e07564d8160838d0472728746f3ea3725ced41e43ac05486a328ee78e/pgmpy-0.1.6.tar.gz (218kB)\n",
      "\u001b[K    100% |████████████████████████████████| 225kB 7.0MB/s \n",
      "\u001b[?25hCollecting wrapt\n",
      "  Downloading https://files.pythonhosted.org/packages/a0/47/66897906448185fcb77fc3c2b1bc20ed0ecca81a0f2f88eda3fc5a34fc3d/wrapt-1.10.11.tar.gz\n",
      "Requirement already satisfied: networkx>=1.8.1 in /usr/local/lib/python2.7/dist-packages (from pgmpy) (2.1)\n",
      "Requirement already satisfied: scipy>=0.12.1 in /usr/local/lib/python2.7/dist-packages (from pgmpy) (0.19.1)\n",
      "Requirement already satisfied: numpy>=1.7.0 in /usr/local/lib/python2.7/dist-packages (from pgmpy) (1.14.5)\n",
      "Requirement already satisfied: decorator>=4.1.0 in /usr/local/lib/python2.7/dist-packages (from networkx>=1.8.1->pgmpy) (4.3.0)\n",
      "Building wheels for collected packages: pgmpy, wrapt\n",
      "  Running setup.py bdist_wheel for pgmpy ... \u001b[?25l-\b \b\\\b \bdone\n",
      "\u001b[?25h  Stored in directory: /root/.cache/pip/wheels/5e/5d/c5/81dd9fc173c4b56cc6f38b943d3d73b81f1096d67c52ae278a\n",
      "  Running setup.py bdist_wheel for wrapt ... \u001b[?25l-\b \b\\\b \bdone\n",
      "\u001b[?25h  Stored in directory: /root/.cache/pip/wheels/48/5d/04/22361a593e70d23b1f7746d932802efe1f0e523376a74f321e\n",
      "Successfully built pgmpy wrapt\n",
      "Installing collected packages: pgmpy, wrapt\n",
      "Successfully installed pgmpy-0.1.6 wrapt-1.10.11\n"
     ]
    }
   ],
   "source": [
    "!pip install pgmpy wrapt"
   ]
  },
  {
   "cell_type": "markdown",
   "metadata": {
    "colab_type": "text",
    "id": "QTaHazkLFpsY"
   },
   "source": [
    "# Creating Model"
   ]
  },
  {
   "cell_type": "code",
   "execution_count": 0,
   "metadata": {
    "colab": {},
    "colab_type": "code",
    "collapsed": true,
    "id": "5AkvBQ3QFj6e"
   },
   "outputs": [],
   "source": [
    "from pgmpy.factors.discrete import TabularCPD\n",
    "from pgmpy.models import BayesianModel\n",
    "\n",
    "accident_cpd = TabularCPD(variable='A',\n",
    "                       variable_card=2,\n",
    "                       values=[[.6, .4]])\n",
    "\n",
    "game_cpd = TabularCPD(variable='G',\n",
    "                       variable_card=2,\n",
    "                       values=[[.5, .5]])\n",
    "\n",
    "sunny_cpd = TabularCPD(variable='S',\n",
    "                       variable_card=2,\n",
    "                       values=[[.7, .3]])\n",
    "\n",
    "rain_cpd = TabularCPD(variable='R',\n",
    "                       variable_card=2,\n",
    "                       values=[[.8, .2]])\n",
    "\n",
    "new_dish_cpd = TabularCPD(variable='N',\n",
    "                       variable_card=2,\n",
    "                       values=[[.5, .5]])\n",
    "\n",
    "\n",
    "traffic_cpd = TabularCPD(variable='T',\n",
    "                         variable_card=2,\n",
    "                         values=[[.8, .05, .1, .5 ],\n",
    "                                [.2,.95, .9, .5]],\n",
    "                         evidence=['A', 'G'],\n",
    "                         evidence_card=[2, 2])\n",
    "\n",
    "pedestrian_cpd = TabularCPD(variable='P',\n",
    "                         variable_card=2,\n",
    "                         values=[[.4, .9, .1, .8 ],\n",
    "                                [.6,.1, .9, .2]],\n",
    "                         evidence=['S', 'R'],\n",
    "                         evidence_card=[2, 2])                \n",
    "                                 \n",
    "Restaurent_booking_cpd = TabularCPD(variable='RB',\n",
    "                         variable_card=2,\n",
    "                         values=[[.95, .6, .9, .5, .4, .05, .7, .3 ],\n",
    "                                [.05, .4, .1, .5, .6, .95, .3, .7]],\n",
    "                         evidence=['N', 'T','P'],\n",
    "                         evidence_card=[2, 2, 2])           "
   ]
  },
  {
   "cell_type": "code",
   "execution_count": 0,
   "metadata": {
    "colab": {},
    "colab_type": "code",
    "collapsed": true,
    "id": "Zaa6qRkJFyWk"
   },
   "outputs": [],
   "source": [
    "# buildind model\n",
    "mcg_model = BayesianModel([('A', 'T'),('G', 'T'), ('S', 'P'), ('R', 'P'),('T','RB'),('N','RB'),('P','RB')])"
   ]
  },
  {
   "cell_type": "code",
   "execution_count": 0,
   "metadata": {
    "colab": {},
    "colab_type": "code",
    "collapsed": true,
    "id": "SHQMMQpGF2Eb"
   },
   "outputs": [],
   "source": [
    "# adding cpds\n",
    "mcg_model.add_cpds(accident_cpd, game_cpd, sunny_cpd, rain_cpd, new_dish_cpd, traffic_cpd, pedestrian_cpd, Restaurent_booking_cpd)\n",
    "\n"
   ]
  },
  {
   "cell_type": "code",
   "execution_count": 0,
   "metadata": {
    "colab": {
     "base_uri": "https://localhost:8080/",
     "height": 1071
    },
    "colab_type": "code",
    "id": "B8HzAd76F6Mo",
    "outputId": "f89235b6-119b-47a3-9f64-0d85e413abf3"
   },
   "outputs": [
    {
     "name": "stdout",
     "output_type": "stream",
     "text": [
      "CPD of A:\n",
      "+-----+-----+\n",
      "| A_0 | 0.6 |\n",
      "+-----+-----+\n",
      "| A_1 | 0.4 |\n",
      "+-----+-----+\n",
      "CPD of G:\n",
      "+-----+-----+\n",
      "| G_0 | 0.5 |\n",
      "+-----+-----+\n",
      "| G_1 | 0.5 |\n",
      "+-----+-----+\n",
      "CPD of S:\n",
      "+-----+-----+\n",
      "| S_0 | 0.7 |\n",
      "+-----+-----+\n",
      "| S_1 | 0.3 |\n",
      "+-----+-----+\n",
      "CPD of R:\n",
      "+-----+-----+\n",
      "| R_0 | 0.8 |\n",
      "+-----+-----+\n",
      "| R_1 | 0.2 |\n",
      "+-----+-----+\n",
      "CPD of N:\n",
      "+-----+-----+\n",
      "| N_0 | 0.5 |\n",
      "+-----+-----+\n",
      "| N_1 | 0.5 |\n",
      "+-----+-----+\n",
      "CPD of T:\n",
      "+-----+-----+------+-----+-----+\n",
      "| A   | A_0 | A_0  | A_1 | A_1 |\n",
      "+-----+-----+------+-----+-----+\n",
      "| G   | G_0 | G_1  | G_0 | G_1 |\n",
      "+-----+-----+------+-----+-----+\n",
      "| T_0 | 0.8 | 0.05 | 0.1 | 0.5 |\n",
      "+-----+-----+------+-----+-----+\n",
      "| T_1 | 0.2 | 0.95 | 0.9 | 0.5 |\n",
      "+-----+-----+------+-----+-----+\n",
      "CPD of P:\n",
      "+-----+-----+-----+-----+-----+\n",
      "| S   | S_0 | S_0 | S_1 | S_1 |\n",
      "+-----+-----+-----+-----+-----+\n",
      "| R   | R_0 | R_1 | R_0 | R_1 |\n",
      "+-----+-----+-----+-----+-----+\n",
      "| P_0 | 0.4 | 0.9 | 0.1 | 0.8 |\n",
      "+-----+-----+-----+-----+-----+\n",
      "| P_1 | 0.6 | 0.1 | 0.9 | 0.2 |\n",
      "+-----+-----+-----+-----+-----+\n",
      "CPD of RB:\n",
      "+------+------+-----+-----+-----+-----+------+-----+-----+\n",
      "| N    | N_0  | N_0 | N_0 | N_0 | N_1 | N_1  | N_1 | N_1 |\n",
      "+------+------+-----+-----+-----+-----+------+-----+-----+\n",
      "| T    | T_0  | T_0 | T_1 | T_1 | T_0 | T_0  | T_1 | T_1 |\n",
      "+------+------+-----+-----+-----+-----+------+-----+-----+\n",
      "| P    | P_0  | P_1 | P_0 | P_1 | P_0 | P_1  | P_0 | P_1 |\n",
      "+------+------+-----+-----+-----+-----+------+-----+-----+\n",
      "| RB_0 | 0.95 | 0.6 | 0.9 | 0.5 | 0.4 | 0.05 | 0.7 | 0.3 |\n",
      "+------+------+-----+-----+-----+-----+------+-----+-----+\n",
      "| RB_1 | 0.05 | 0.4 | 0.1 | 0.5 | 0.6 | 0.95 | 0.3 | 0.7 |\n",
      "+------+------+-----+-----+-----+-----+------+-----+-----+\n"
     ]
    }
   ],
   "source": [
    "# Iterate over fraud_model.get_cpds()\n",
    "for cpd in mcg_model.get_cpds():\n",
    "    print(\"CPD of {variable}:\".format(variable=cpd.variable))\n",
    "    print(cpd)"
   ]
  },
  {
   "cell_type": "code",
   "execution_count": 0,
   "metadata": {
    "colab": {
     "base_uri": "https://localhost:8080/",
     "height": 323
    },
    "colab_type": "code",
    "id": "-Tv9rXL1F-nP",
    "outputId": "c0a3ce84-d2ef-4363-9ad6-420546cadcde"
   },
   "outputs": [
    {
     "name": "stdout",
     "output_type": "stream",
     "text": [
      "+------+-----------+\n",
      "| RB   |   phi(RB) |\n",
      "|------+-----------|\n",
      "| RB_0 |    0.0500 |\n",
      "| RB_1 |    0.9500 |\n",
      "+------+-----------+\n",
      "+------+-----------+\n",
      "| RB   |   phi(RB) |\n",
      "|------+-----------|\n",
      "| RB_0 |    0.9000 |\n",
      "| RB_1 |    0.1000 |\n",
      "+------+-----------+\n",
      "+-----+----------+\n",
      "| T   |   phi(T) |\n",
      "|-----+----------|\n",
      "| T_0 |   0.8000 |\n",
      "| T_1 |   0.2000 |\n",
      "+-----+----------+\n"
     ]
    }
   ],
   "source": [
    "from pgmpy.inference.base import Inference\n",
    "from pgmpy.factors import factor_product\n",
    "\n",
    "import itertools\n",
    "\n",
    "\n",
    "class SimpleInference(Inference):\n",
    "    def query(self, var, evidence):\n",
    "        # self.factors is a dict of the form of {node: [factors_involving_node]}\n",
    "        factors_list = set(itertools.chain(*self.factors.values()))\n",
    "        product = factor_product(*factors_list)\n",
    "        reduced_prod = product.reduce(evidence, inplace=False)\n",
    "        reduced_prod.normalize()\n",
    "        var_to_marg = set(self.model.nodes()) - set(var) - set([state[0] for state in evidence])\n",
    "        marg_prod = reduced_prod.marginalize(var_to_marg, inplace=False)\n",
    "        return marg_prod\n",
    "    \n",
    "infer = SimpleInference(mcg_model)\n",
    "l1 = infer.query(var=['RB'], evidence=[('N', 1), ('T', 0), ('P', 1)])\n",
    "print(l1);\n",
    "l2 = infer.query(var=['RB'], evidence=[('N', 0), ('T', 1), ('P', 0)])\n",
    "print(l2);\n",
    "l3 = infer.query(var=['T'], evidence=[('A', 0), ('G', 0)])\n",
    "print(l3);"
   ]
  },
  {
   "cell_type": "code",
   "execution_count": 0,
   "metadata": {
    "colab": {},
    "colab_type": "code",
    "collapsed": true,
    "id": "d53V14hsGC9D"
   },
   "outputs": [],
   "source": []
  }
 ],
 "metadata": {
  "colab": {
   "collapsed_sections": [],
   "name": "ResturantModel.ipynb",
   "provenance": [],
   "version": "0.3.2"
  },
  "kernelspec": {
   "display_name": "Python 3",
   "language": "python",
   "name": "python3"
  },
  "language_info": {
   "codemirror_mode": {
    "name": "ipython",
    "version": 3
   },
   "file_extension": ".py",
   "mimetype": "text/x-python",
   "name": "python",
   "nbconvert_exporter": "python",
   "pygments_lexer": "ipython3",
   "version": "3.6.3"
  }
 },
 "nbformat": 4,
 "nbformat_minor": 1
}
